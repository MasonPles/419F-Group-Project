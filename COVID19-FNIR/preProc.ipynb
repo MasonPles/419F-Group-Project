{
 "cells": [
  {
   "cell_type": "markdown",
   "id": "b817f7fe-b62e-4345-93f4-b0b88b974fa9",
   "metadata": {},
   "source": [
    "# PreProcessing FakeNews Titles\n",
    "\n",
    "Here we begin to extract all of the fake news article titles found in fakeNews.csv\n",
    "\n",
    "This data was provided by IEEEDataPort:\n",
    "\n",
    "“Covid-19 Fake News Infodemic Research Dataset (CoVID19-FNIR Dataset) | IEEE DataPort.” https://ieee-dataport.org/open-access/covid-19-fake-news-infodemic-research-dataset-covid19-fnir-dataset (accessed Nov. 08, 2021)."
   ]
  },
  {
   "cell_type": "code",
   "execution_count": 3,
   "id": "bb8b9c91-fe54-48ef-8fa7-b3d907bb0590",
   "metadata": {},
   "outputs": [],
   "source": [
    "\n",
    "import nltk\n",
    "\n",
    "import os\n",
    "import string\n",
    "import pandas as pd\n",
    "\n",
    " \n",
    "import re \n",
    "import time \n",
    "import nltk.corpus  \n",
    "import unidecode \n",
    "from nltk.tokenize import word_tokenize \n",
    "from nltk.stem import WordNetLemmatizer \n",
    "from autocorrect import Speller \n",
    "from bs4 import BeautifulSoup \n",
    "from nltk.corpus import stopwords \n",
    "from nltk import word_tokenize \n",
    "import string \n",
    "\n",
    "import spacy"
   ]
  },
  {
   "cell_type": "code",
   "execution_count": null,
   "id": "47190c1a-7e9c-491b-9e02-785615a2caa5",
   "metadata": {},
   "outputs": [],
   "source": []
  },
  {
   "cell_type": "code",
   "execution_count": 4,
   "id": "35e5d05f-0c54-4921-82cd-25ab300d5e16",
   "metadata": {},
   "outputs": [],
   "source": [
    "from sklearn.feature_extraction.text import CountVectorizer\n",
    "import re\n",
    "\n",
    "def get_top_n_words(corpus, n=None):\n",
    "    vec = CountVectorizer().fit(corpus)\n",
    "    bag_of_words = vec.transform(corpus)\n",
    "    sum_words = bag_of_words.sum(axis=0) \n",
    "    words_freq = [(word, sum_words[0, idx]) for word, idx in      \n",
    "                   vec.vocabulary_.items()]\n",
    "    words_freq =sorted(words_freq, key = lambda x: x[1], \n",
    "                       reverse=True)\n",
    "    return words_freq[:n]\n",
    "\n"
   ]
  },
  {
   "cell_type": "code",
   "execution_count": 5,
   "id": "8ba8d9be-b744-4a27-8acf-ba88b96ee423",
   "metadata": {},
   "outputs": [],
   "source": [
    "import func as fc\n",
    "\n",
    "\n",
    "lst = fc.load_ext()\n",
    "\n",
    "def clean( listt ):\n",
    "    '''\n",
    "    Clean will iterate over each list element and then perform text cleaning on this element, the function will return a complete \n",
    "    list cleaned \n",
    "    \n",
    "    '''\n",
    "    #Create an empty list to add our cleaned text to in the same order which they occur in the orginial list\n",
    "    cleaned = []\n",
    "    \n",
    "    for e in listt:\n",
    "        text = fc.remove_newLT(e)\n",
    "        text = fc.remove_Html(text)\n",
    "        text = fc.remove_white_numb(text)\n",
    "        text = fc.remove_doubles(text)\n",
    "        text = fc.expand_contrt(text)\n",
    "        text = fc.stopWords(text)\n",
    "        cleaned.append(text)\n",
    "        \n",
    "\n",
    "        \n",
    "    return cleaned\n",
    "\n",
    "cleanList = clean(lst[:])\n"
   ]
  },
  {
   "cell_type": "code",
   "execution_count": 6,
   "id": "f3484868-4ff5-45dd-b0d5-74f0254367d2",
   "metadata": {},
   "outputs": [],
   "source": [
    "def creat_corpus( lst ):\n",
    "    doc = \"\"\n",
    "    for e in lst:\n",
    "        doc = doc+\" \"+e\n",
    "    \n",
    "    return doc\n",
    "\n",
    "    \n",
    "nlp = spacy.load(\"en_core_sci_sm\")\n",
    "dd = creat_corpus(cleanList)\n",
    "doc = nlp(dd)\n",
    "\n",
    "words = list(doc.ents)\n"
   ]
  },
  {
   "cell_type": "code",
   "execution_count": 7,
   "id": "61102a01-15e1-4c59-8093-3676d9871c89",
   "metadata": {},
   "outputs": [],
   "source": [
    "listWords = words\n",
    "listWords2 = words\n",
    "\n",
    "sing = set()\n",
    "doub = set()\n",
    "\n",
    "for e in listWords:\n",
    "    result = bool(re.search(r\"\\s\", str(e)))\n",
    "    \n",
    "    if result:\n",
    "        doub.add(str(e))\n",
    "    else:\n",
    "        sing.add(str(e))\n",
    "\n",
    "    \n"
   ]
  },
  {
   "cell_type": "code",
   "execution_count": 14,
   "id": "e0bba20b-2844-495f-9b2a-376826ef2a0c",
   "metadata": {},
   "outputs": [],
   "source": [
    "import numpy as n\n",
    "\n",
    "\n",
    "sing2 = pd.DataFrame(sing)\n",
    "\n",
    "doub2 = pd.DataFrame(doub)\n",
    "\n",
    "sing2.to_csv(\"Data/unigram.csv\", encoding='utf-8', index=False)\n",
    "doub2.to_csv(\"Data/bigram.csv\", encoding='utf-8', index=False)\n"
   ]
  },
  {
   "cell_type": "code",
   "execution_count": null,
   "id": "8e266e82-1cac-4085-b8f8-149903a5884f",
   "metadata": {},
   "outputs": [],
   "source": []
  }
 ],
 "metadata": {
  "kernelspec": {
   "display_name": "Python 3",
   "language": "python",
   "name": "python3"
  },
  "language_info": {
   "codemirror_mode": {
    "name": "ipython",
    "version": 3
   },
   "file_extension": ".py",
   "mimetype": "text/x-python",
   "name": "python",
   "nbconvert_exporter": "python",
   "pygments_lexer": "ipython3",
   "version": "3.9.5"
  }
 },
 "nbformat": 4,
 "nbformat_minor": 5
}
